{
 "cells": [
  {
   "cell_type": "markdown",
   "metadata": {},
   "source": [
    "해당 파일은 **랜덤한 k개 클래스의 임베딩 벡터**를 시각화해주는 코드입니다.<br/>`embedding > visualize_actor_embedding.ipynb`와의 차이점은<br/>해당 파일에서는 model pth파일 경로를 직접 설정하여 모델을 불러올 수 있다는 점입니다.<br/><br/>사용자가 변수값을 입력해줘야 하는 부분은 **0. 변수설정**입니다."
   ]
  },
  {
   "cell_type": "code",
   "execution_count": 191,
   "metadata": {},
   "outputs": [
    {
     "name": "stdout",
     "output_type": "stream",
     "text": [
      "Running on device: cuda:0\n"
     ]
    }
   ],
   "source": [
    "from facenet_pytorch import MTCNN, InceptionResnetV1\n",
    "import torch\n",
    "from torch.utils.data import Dataset, DataLoader\n",
    "\n",
    "import numpy as np\n",
    "import os\n",
    "import random\n",
    "\n",
    "import matplotlib\n",
    "import matplotlib.pyplot as plt\n",
    "import cv2\n",
    "\n",
    "from sklearn.manifold import TSNE\n",
    "\n",
    "\n",
    "device = torch.device('cuda:0' if torch.cuda.is_available() else 'cpu')\n",
    "print('Running on device: {}'.format(device))"
   ]
  },
  {
   "cell_type": "markdown",
   "metadata": {},
   "source": [
    "#### 0. 변수설정"
   ]
  },
  {
   "cell_type": "code",
   "execution_count": 192,
   "metadata": {},
   "outputs": [],
   "source": [
    "# workers: num_workers 파라미터값 지정\n",
    "workers = 0 if os.name == 'nt' else 4\n",
    "\n",
    "# data_path: 클래스들(연예인 혹은 캐릭터)을 포함하는 상위폴더\n",
    "data_path = \"/opt/ml/facenet_pytorch/data/total\"\n",
    "\n",
    "# pretrained_path: 모델 경로\n",
    "pretrained_path = \"/opt/ml/facenet_pytorch/models/trained_model/2021-12-20_14_12_38_18.pth\"\n",
    "\n",
    "# num_classes: load하는 모델의 train시 학습 클래스 개수\n",
    "num_classes = 5513\n",
    "\n",
    "# k: k개 클래스 임베딩 벡터를 시각화 할 예정\n",
    "k = 10\n",
    "\n",
    "# flag_crop: 시각화하는 폴더의 사진이 crop이 되어있는지 여부\n",
    "flag_crop = True"
   ]
  },
  {
   "cell_type": "markdown",
   "metadata": {},
   "source": [
    "#### 1. MTCNN 모듈 및 InceptionResnetV1 모듈 정의"
   ]
  },
  {
   "cell_type": "code",
   "execution_count": 193,
   "metadata": {},
   "outputs": [],
   "source": [
    "mtcnn = MTCNN(\n",
    "    image_size=160, margin=80, min_face_size=20,\n",
    "    thresholds=[0.6, 0.7, 0.7], factor=0.709, post_process=True,\n",
    "    device=device\n",
    ")"
   ]
  },
  {
   "cell_type": "code",
   "execution_count": 194,
   "metadata": {},
   "outputs": [],
   "source": [
    "resnet = InceptionResnetV1(classify=True, num_classes=num_classes).eval().to(device)"
   ]
  },
  {
   "cell_type": "code",
   "execution_count": 195,
   "metadata": {},
   "outputs": [
    {
     "data": {
      "text/plain": [
       "<All keys matched successfully>"
      ]
     },
     "execution_count": 195,
     "metadata": {},
     "output_type": "execute_result"
    }
   ],
   "source": [
    "resnet.load_state_dict(torch.load(pretrained_path))"
   ]
  },
  {
   "cell_type": "markdown",
   "metadata": {},
   "source": [
    "#### 2. 랜덤한 k개 클래스 선택"
   ]
  },
  {
   "cell_type": "code",
   "execution_count": 196,
   "metadata": {},
   "outputs": [
    {
     "name": "stdout",
     "output_type": "stream",
     "text": [
      "폴더 개수: 1050\n",
      "사진이 존재하지 않는 폴더: 0\n"
     ]
    }
   ],
   "source": [
    "# 사진이 없는 경우 해당 폴더는 제외\n",
    "class_names = []\n",
    "remove_names = []\n",
    "for actor_name in os.listdir(data_path):\n",
    "    file_path = os.path.join(data_path, actor_name)\n",
    "    if os.path.isdir(file_path):\n",
    "        if len(os.listdir(file_path)) > 0: # 해당 폴더에 사진이 있는 경우\n",
    "            class_names.append(actor_name)\n",
    "        else:\n",
    "            remove_names.append(actor_name)\n",
    "\n",
    "print(f'폴더 개수: {len(class_names)}')\n",
    "print(f'사진이 존재하지 않는 폴더: {len(remove_names)}')"
   ]
  },
  {
   "cell_type": "code",
   "execution_count": 197,
   "metadata": {},
   "outputs": [
    {
     "name": "stdout",
     "output_type": "stream",
     "text": [
      "랜덤 10개 클래스:\n",
      "['서강준', '김옥빈', '699415_1', '하석진', '725586_5', '김다솜', '김재화', '738809_4', '백승희', '서예화']\n"
     ]
    }
   ],
   "source": [
    "select_names = random.sample(class_names, 10)\n",
    "print(f'랜덤 10개 클래스:\\n{select_names}')"
   ]
  },
  {
   "cell_type": "markdown",
   "metadata": {},
   "source": [
    "#### 3. Crop을 위한 custom Dataset정의 및 Data로드"
   ]
  },
  {
   "cell_type": "code",
   "execution_count": 198,
   "metadata": {},
   "outputs": [],
   "source": [
    "class CustomImageDataset(Dataset):\n",
    "    def __init__(self, data_path, select_names):\n",
    "        self.imgs, self.labels, self.paths, self.idx_to_class = self.make_dataset(data_path, select_names)\n",
    "        \n",
    "    def __len__(self):\n",
    "        return len(self.imgs)\n",
    "\n",
    "    def __getitem__(self, idx):\n",
    "        img = self.imgs[idx]\n",
    "        label = self.labels[idx]\n",
    "        path = self.paths[idx]\n",
    "        return img, label, path\n",
    "\n",
    "    def make_dataset(self, data_path, select_names):\n",
    "        imgs = []\n",
    "        labels = []\n",
    "        paths = []\n",
    "        idx_to_class = {key:name for key, name in enumerate(select_names)}\n",
    "        for key, name in idx_to_class.items():\n",
    "            actor_path = os.path.join(data_path, name)\n",
    "            for img_name in os.listdir(actor_path):\n",
    "                # img의 차원이 3이 아니거나, 채널의 개수가 3이 아닌 경우 제외\n",
    "                img_path = os.path.join(actor_path, img_name)\n",
    "                img = cv2.imread(img_path)\n",
    "                if type(img) == np.ndarray and len(img.shape) == 3 and img.shape[2] == 3:\n",
    "                    img = cv2.resize(img, (160, 160))\n",
    "                    img = cv2.cvtColor(img, cv2.COLOR_BGR2RGB)\n",
    "                    imgs.append(img)\n",
    "                    labels.append(key)\n",
    "                    paths.append(img_path)\n",
    "\n",
    "        return imgs, labels, paths, idx_to_class"
   ]
  },
  {
   "cell_type": "code",
   "execution_count": 199,
   "metadata": {},
   "outputs": [],
   "source": [
    "dataset = CustomImageDataset(data_path, select_names)"
   ]
  },
  {
   "cell_type": "code",
   "execution_count": 200,
   "metadata": {},
   "outputs": [
    {
     "name": "stdout",
     "output_type": "stream",
     "text": [
      "이미지 개수: 291\n",
      "dataset.idx_to_class: {0: '서강준', 1: '김옥빈', 2: '699415_1', 3: '하석진', 4: '725586_5', 5: '김다솜', 6: '김재화', 7: '738809_4', 8: '백승희', 9: '서예화'}\n"
     ]
    }
   ],
   "source": [
    "print(f'이미지 개수: {len(dataset.imgs)}')\n",
    "print(f'dataset.idx_to_class: {dataset.idx_to_class}')"
   ]
  },
  {
   "cell_type": "code",
   "execution_count": 201,
   "metadata": {},
   "outputs": [],
   "source": [
    "def collate_fn(x):\n",
    "    return x[0]\n",
    "\n",
    "loader = DataLoader(dataset, collate_fn=collate_fn, num_workers=workers)"
   ]
  },
  {
   "cell_type": "markdown",
   "metadata": {},
   "source": [
    "#### 4. Crop 수행"
   ]
  },
  {
   "cell_type": "code",
   "execution_count": 202,
   "metadata": {},
   "outputs": [],
   "source": [
    "aligned = []\n",
    "names = []\n",
    "img_names = []\n",
    "\n",
    "if flag_crop:\n",
    "    for x, y, path in loader:\n",
    "        x_aligned = ((torch.tensor(x).permute(2, 0, 1) - 127.5) / 128)\n",
    "        \n",
    "        aligned.append(x_aligned)\n",
    "        names.append(dataset.idx_to_class[y])\n",
    "        img_names.append(path.split('/')[-1])\n",
    "else:\n",
    "    for x, y, path in loader:\n",
    "        x_aligned, prob = mtcnn(x, return_prob=True)\n",
    "        \n",
    "        if x_aligned is not None:\n",
    "            aligned.append(x_aligned)\n",
    "            names.append(dataset.idx_to_class[y])\n",
    "            img_names.append(path.split('/')[-1])"
   ]
  },
  {
   "cell_type": "markdown",
   "metadata": {},
   "source": [
    "#### 5. Embedding vector 계산을 위한 Dataset정의 및 데이터로드"
   ]
  },
  {
   "cell_type": "code",
   "execution_count": 203,
   "metadata": {},
   "outputs": [],
   "source": [
    "class EmbeddingDataset(Dataset):\n",
    "    def __init__(self, aligned: list, names: list, img_names: list):\n",
    "        aligned_torch = torch.stack(aligned)\n",
    "        self.aligned_torch = aligned_torch\n",
    "        self.names = names\n",
    "        self.img_names = img_names\n",
    "\n",
    "    def __len__(self):\n",
    "        return len(self.aligned_torch)\n",
    "\n",
    "    def __getitem__(self, idx):\n",
    "        return self.aligned_torch[idx], self.names[idx], self.img_names[idx]"
   ]
  },
  {
   "cell_type": "code",
   "execution_count": 204,
   "metadata": {},
   "outputs": [],
   "source": [
    "aligned_dataset = EmbeddingDataset(aligned, names, img_names)\n",
    "alinged_loader = DataLoader(aligned_dataset, num_workers=workers, batch_size=1)"
   ]
  },
  {
   "cell_type": "markdown",
   "metadata": {},
   "source": [
    "#### 6. InceptionResnetV1 수행"
   ]
  },
  {
   "cell_type": "code",
   "execution_count": 205,
   "metadata": {},
   "outputs": [],
   "source": [
    "embeddings = []\n",
    "for x in alinged_loader:\n",
    "    y = resnet(x[0].to(device))\n",
    "    embeddings.extend(y.detach().cpu().tolist())"
   ]
  },
  {
   "cell_type": "markdown",
   "metadata": {},
   "source": [
    "#### 7. TSNE로 embedding vector 차원 축소"
   ]
  },
  {
   "cell_type": "code",
   "execution_count": 206,
   "metadata": {},
   "outputs": [
    {
     "name": "stderr",
     "output_type": "stream",
     "text": [
      "/opt/conda/envs/final/lib/python3.7/site-packages/sklearn/manifold/_t_sne.py:783: FutureWarning: The default initialization in TSNE will change from 'random' to 'pca' in 1.2.\n",
      "  FutureWarning,\n",
      "/opt/conda/envs/final/lib/python3.7/site-packages/sklearn/manifold/_t_sne.py:793: FutureWarning: The default learning rate in TSNE will change from 200.0 to 'auto' in 1.2.\n",
      "  FutureWarning,\n"
     ]
    },
    {
     "name": "stdout",
     "output_type": "stream",
     "text": [
      "[t-SNE] Computing 91 nearest neighbors...\n",
      "[t-SNE] Indexed 291 samples in 0.002s...\n",
      "[t-SNE] Computed neighbors for 291 samples in 0.039s...\n",
      "[t-SNE] Computed conditional probabilities for sample 291 / 291\n",
      "[t-SNE] Mean sigma: 133.312341\n",
      "[t-SNE] KL divergence after 250 iterations with early exaggeration: 57.968208\n",
      "[t-SNE] KL divergence after 1000 iterations: 0.521860\n"
     ]
    }
   ],
   "source": [
    "tsne = TSNE(2, verbose=-1)\n",
    "tsne_proj = tsne.fit_transform(np.array(embeddings))"
   ]
  },
  {
   "cell_type": "markdown",
   "metadata": {},
   "source": [
    "#### 8. 2차원으로 축소된 embedding vector 시각화"
   ]
  },
  {
   "cell_type": "code",
   "execution_count": 207,
   "metadata": {},
   "outputs": [
    {
     "data": {
      "image/png": "[encoded data removed]",
      "text/plain": [
       "<Figure size 576x576 with 1 Axes>"
      ]
     },
     "metadata": {
      "needs_background": "light"
     },
     "output_type": "display_data"
    }
   ],
   "source": [
    "# 범례 한글 깨짐 현상 해결\n",
    "# https://ehpub.co.kr/47-matplotlib%EC%9D%98-rc%EC%97%90-%ED%95%9C%EA%B8%80-%ED%8F%B0%ED%8A%B8%EB%A5%BC-%EC%84%A4%EC%A0%95%ED%95%A0-%EC%88%98-%EC%9E%88%EC%96%B4%EC%9A%94/\n",
    "# https://koosco.tistory.com/38\n",
    "plt.rc('font', family='NanumGothic')\n",
    "plt.rcParams['axes.unicode_minus'] = False\n",
    "\n",
    "num_categories = len(set(names))\n",
    "cmap = matplotlib.cm.get_cmap('Set1', num_categories)\n",
    "\n",
    "fig, ax = plt.subplots(figsize=(8,8))\n",
    "for i,lab in enumerate(set(names)):\n",
    "    indices = np.array(names)==lab\n",
    "    ax.scatter(tsne_proj[indices,0], tsne_proj[indices,1], cmap=cmap, label=lab ,alpha=0.5)\n",
    "\n",
    "\n",
    "ax.legend(fontsize='large', markerscale=2, loc='upper left', bbox_to_anchor=(1, 1))\n",
    "plt.show()"
   ]
  },
  {
   "cell_type": "code",
   "execution_count": null,
   "metadata": {},
   "outputs": [],
   "source": []
  }
 ],
 "metadata": {
  "kernelspec": {
   "display_name": "Python 3",
   "language": "python",
   "name": "python3"
  },
  "language_info": {
   "codemirror_mode": {
    "name": "ipython",
    "version": 3
   },
   "file_extension": ".py",
   "mimetype": "text/x-python",
   "name": "python",
   "nbconvert_exporter": "python",
   "pygments_lexer": "ipython3",
   "version": "3.7.11"
  }
 },
 "nbformat": 4,
 "nbformat_minor": 2
}
